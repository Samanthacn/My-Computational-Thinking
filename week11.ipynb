{
  "nbformat": 4,
  "nbformat_minor": 0,
  "metadata": {
    "colab": {
      "name": "week11.ipynb",
      "provenance": [],
      "authorship_tag": "ABX9TyP+FhdeFzYxAQPuy1pZgB3N",
      "include_colab_link": true
    },
    "kernelspec": {
      "name": "python3",
      "display_name": "Python 3"
    }
  },
  "cells": [
    {
      "cell_type": "markdown",
      "metadata": {
        "id": "view-in-github",
        "colab_type": "text"
      },
      "source": [
        "<a href=\"https://colab.research.google.com/github/Samanthacn/My-Computational-Thinking/blob/master/week11.ipynb\" target=\"_parent\"><img src=\"https://colab.research.google.com/assets/colab-badge.svg\" alt=\"Open In Colab\"/></a>"
      ]
    },
    {
      "cell_type": "markdown",
      "metadata": {
        "id": "9UDWJeWt9_ua"
      },
      "source": [
        "報告分組"
      ]
    },
    {
      "cell_type": "code",
      "metadata": {
        "colab": {
          "base_uri": "https://localhost:8080/"
        },
        "id": "Y33k14vL97o2",
        "outputId": "358c8074-f4c0-4f40-847c-fcd5ec71d932"
      },
      "source": [
        "number=input(\"Enter a number\")\n",
        "number=int(number)\n",
        "group=(number-1)//5+1\n",
        "print(\"Group is\" , group)"
      ],
      "execution_count": 1,
      "outputs": [
        {
          "output_type": "stream",
          "text": [
            "Enter a number8\n",
            "Group is 2\n"
          ],
          "name": "stdout"
        }
      ]
    },
    {
      "cell_type": "markdown",
      "metadata": {
        "id": "9S01w59j-ssz"
      },
      "source": [
        "對話機器人"
      ]
    },
    {
      "cell_type": "code",
      "metadata": {
        "colab": {
          "base_uri": "https://localhost:8080/"
        },
        "id": "RK_fu4pc-ulo",
        "outputId": "9a08faca-e306-4dbf-f4fc-4e23538f175a"
      },
      "source": [
        "print(\"哈囉,大家好。我叫Zyxo64,是一個聊天機器人。\")\n",
        "hobby=\"我很喜歡美食東西,也喜歡養動物。今天很高興有機會來到世新大學,請大家多多指教。\"\n",
        "print(hobby)\n",
        "name=input(\"嗨!妳好,請問大名?:\")\n",
        "print(\"我叫\",name)\n",
        "print(\"你好\",name,\"很高興認識你\")"
      ],
      "execution_count": 11,
      "outputs": [
        {
          "output_type": "stream",
          "text": [
            "哈囉,大家好。我叫Zyxo64,是一個聊天機器人。\n",
            "我很喜歡美食東西,也喜歡養動物。今天很高興有機會來到世新大學,請大家多多指教。\n",
            "嗨!妳好,請問大名?:Samantha\n",
            "我叫 Samantha\n",
            "你好 Samantha 很高興認識你\n"
          ],
          "name": "stdout"
        }
      ]
    },
    {
      "cell_type": "code",
      "metadata": {
        "colab": {
          "base_uri": "https://localhost:8080/"
        },
        "id": "r_Bo4k8w_oC3",
        "outputId": "5924ee80-49e6-4d83-b524-de4b961e5978"
      },
      "source": [
        "year=input(\"請問一下今年是西元2020年,那是民國幾年呢? \")\n",
        "print(\"對!應該沒錯,謝謝妳!\")\n",
        "myage=int(input(\"再猜猜看我今年幾歲?\"))\n",
        "print(\"哇!你好聰明,我今年的確是\",myage)\n",
        "nyears=100-myage\n",
        "print(\"我再\",nyears,\"年就滿100歲了。\")\n",
        "print(\"到時候是西元\",int(year)+nyears+1911,\"年\")"
      ],
      "execution_count": 12,
      "outputs": [
        {
          "output_type": "stream",
          "text": [
            "請問一下今年是西元2020年,那是民國幾年呢? 109\n",
            "對!應該沒錯,謝謝妳!\n",
            "再猜猜看我今年幾歲?20\n",
            "哇!你好聰明,我今年的確是 20\n",
            "我再 80 年就滿100歲了。\n",
            "到時候是西元 2100 年\n"
          ],
          "name": "stdout"
        }
      ]
    },
    {
      "cell_type": "code",
      "metadata": {
        "colab": {
          "base_uri": "https://localhost:8080/"
        },
        "id": "9ZtmFHtqAEd0",
        "outputId": "f09b5a4b-d6c1-4b2b-abe0-7bd73bd4d601"
      },
      "source": [
        "print(\"我喜歡巧克力,也喜歡嘗試各種新食物。\")\n",
        "food=input(\"你呢。你最喜歡的食物是什麼?: \")\n",
        "print(\"我也喜歡\",food)\n",
        "question=\"你多久吃一次\"+food+\"?:\"\n",
        "howoften=input(question)\n",
        "print(\"真有趣。不知道這樣對健康好不好!\")"
      ],
      "execution_count": 13,
      "outputs": [
        {
          "output_type": "stream",
          "text": [
            "我喜歡巧克力,也喜歡嘗試各種新食物。\n",
            "你呢。你最喜歡的食物是什麼?: 蛋糕\n",
            "我也喜歡 蛋糕\n",
            "你多久吃一次蛋糕?:一個禮拜一次\n",
            "真有趣。不知道這樣對健康好不好!\n"
          ],
          "name": "stdout"
        }
      ]
    },
    {
      "cell_type": "code",
      "metadata": {
        "colab": {
          "base_uri": "https://localhost:8080/"
        },
        "id": "EZEJ5NbnArZo",
        "outputId": "843e3386-daf6-4936-87e1-812955bac3df"
      },
      "source": [
        "animal=input(\"我最喜歡的動物是長頸鹿。你呢?;\")\n",
        "print(\"我不喜歡\",animal)\n",
        "print(\"不知道\",animal,\"喜不喜歡吃\",food,\"?\")"
      ],
      "execution_count": 14,
      "outputs": [
        {
          "output_type": "stream",
          "text": [
            "我最喜歡的動物是長頸鹿。你呢?;老虎\n",
            "我不喜歡 老虎\n",
            "不知道 老虎 喜不喜歡吃 蛋糕 ?\n"
          ],
          "name": "stdout"
        }
      ]
    },
    {
      "cell_type": "code",
      "metadata": {
        "colab": {
          "base_uri": "https://localhost:8080/"
        },
        "id": "hS6llJwuA8kc",
        "outputId": "abb4b700-a4dc-4f28-fb7c-50ff3cdddd34"
      },
      "source": [
        "feeling=input(\"你今天心情如何?;\")\n",
        "print(\"告訴我你現在\",feeling,\"的原因。\")\n",
        "reason=input(\"為什麼:\")\n",
        "print(\"我知道了。謝謝分享\")"
      ],
      "execution_count": 15,
      "outputs": [
        {
          "output_type": "stream",
          "text": [
            "你今天心情如何?;開心\n",
            "告訴我你現在 開心 的原因。\n",
            "為什麼:剛剛去約會\n",
            "我知道了。謝謝分享\n"
          ],
          "name": "stdout"
        }
      ]
    },
    {
      "cell_type": "code",
      "metadata": {
        "colab": {
          "base_uri": "https://localhost:8080/"
        },
        "id": "ZyykisW1BMmq",
        "outputId": "44aa1691-0051-4718-b4c8-8c7b4d1828a0"
      },
      "source": [
        "print(\"今天事情真多!我累了,下次再聊。\")\n",
        "print(\"再見\",name,\"我喜歡跟你聊天!\")"
      ],
      "execution_count": 16,
      "outputs": [
        {
          "output_type": "stream",
          "text": [
            "今天事情真多!我累了,下次再聊。\n",
            "再見 Samantha 我喜歡跟你聊天!\n"
          ],
          "name": "stdout"
        }
      ]
    }
  ]
}