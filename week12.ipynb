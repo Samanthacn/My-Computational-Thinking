{
  "nbformat": 4,
  "nbformat_minor": 0,
  "metadata": {
    "colab": {
      "name": "week12.ipynb",
      "provenance": [],
      "authorship_tag": "ABX9TyNp7clqrXpbQ9083Y9f+Yed",
      "include_colab_link": true
    },
    "kernelspec": {
      "name": "python3",
      "display_name": "Python 3"
    }
  },
  "cells": [
    {
      "cell_type": "markdown",
      "metadata": {
        "id": "view-in-github",
        "colab_type": "text"
      },
      "source": [
        "<a href=\"https://colab.research.google.com/github/Samanthacn/My-Computational-Thinking/blob/master/week12.ipynb\" target=\"_parent\"><img src=\"https://colab.research.google.com/assets/colab-badge.svg\" alt=\"Open In Colab\"/></a>"
      ]
    },
    {
      "cell_type": "code",
      "metadata": {
        "colab": {
          "base_uri": "https://localhost:8080/"
        },
        "id": "APz4sWL12aWm",
        "outputId": "0fa054bf-f360-45be-ce45-528792711ee6"
      },
      "source": [
        "hello1='Hello World'\n",
        "hello2='Hello Python'\n",
        "hello3='Shaquile O Neil'\n",
        "\n",
        "s1=\"123\"\n",
        "s2=\"456\"\n",
        "s3=s1+s2\n",
        "print(s3)\n",
        "s4=s1*2\n",
        "print(s4)"
      ],
      "execution_count": null,
      "outputs": [
        {
          "output_type": "stream",
          "text": [
            "123456\n",
            "123123\n"
          ],
          "name": "stdout"
        }
      ]
    },
    {
      "cell_type": "code",
      "metadata": {
        "colab": {
          "base_uri": "https://localhost:8080/",
          "height": 35
        },
        "id": "J3V6Q_Xm2cA8",
        "outputId": "02f45877-a9b5-451e-da26-52b98927c15b"
      },
      "source": [
        "s1='An apple a day.'\n",
        "s1.capitalize()\n",
        "s1.title()\n",
        "s1.swapcase()\n",
        "s1.upper()\n",
        "s1.lower()"
      ],
      "execution_count": null,
      "outputs": [
        {
          "output_type": "execute_result",
          "data": {
            "application/vnd.google.colaboratory.intrinsic+json": {
              "type": "string"
            },
            "text/plain": [
              "'an apple a day.'"
            ]
          },
          "metadata": {
            "tags": []
          },
          "execution_count": 2
        }
      ]
    },
    {
      "cell_type": "code",
      "metadata": {
        "id": "QZ6YTAqV2cFj"
      },
      "source": [
        "numberlist=[1,2,3,4,5]\n",
        "charlist=[\"1\",\"2\",\"3\",\"4\",\"5\"]\n",
        "mixlist[1,\"2\",3,\"4\",5]"
      ],
      "execution_count": null,
      "outputs": []
    },
    {
      "cell_type": "code",
      "metadata": {
        "colab": {
          "base_uri": "https://localhost:8080/"
        },
        "id": "GFG0giJ8ycrq",
        "outputId": "108c85de-c1ba-440a-88d4-215c71b5686c"
      },
      "source": [
        "word=\"Samantha\"\n",
        "print(word)\n",
        "\n",
        "list1=list(word)\n",
        "print(word)"
      ],
      "execution_count": null,
      "outputs": [
        {
          "output_type": "stream",
          "text": [
            "Samantha\n",
            "Samantha\n"
          ],
          "name": "stdout"
        }
      ]
    },
    {
      "cell_type": "markdown",
      "metadata": {
        "id": "1FzFupgb6UEk"
      },
      "source": [
        "隨堂練習1:"
      ]
    },
    {
      "cell_type": "code",
      "metadata": {
        "id": "c3gpS0_z4JLC",
        "colab": {
          "base_uri": "https://localhost:8080/"
        },
        "outputId": "dde4f6bd-a654-45aa-d11f-7a1906c1ddc7"
      },
      "source": [
        "favorite_list=[23,\"cake\",\"pizza\",\"white\",\"juice\"]\n",
        "print(favorite_list)\n",
        "numlist=[\"1\",\"2\",\"3\",\"4\",\"5\"]"
      ],
      "execution_count": 6,
      "outputs": [
        {
          "output_type": "stream",
          "text": [
            "[23, 'cake', 'pizza', 'white', 'juice']\n"
          ],
          "name": "stdout"
        }
      ]
    },
    {
      "cell_type": "markdown",
      "metadata": {
        "id": "OLkxIiU26OrI"
      },
      "source": [
        "隨堂練習2："
      ]
    },
    {
      "cell_type": "code",
      "metadata": {
        "colab": {
          "base_uri": "https://localhost:8080/"
        },
        "id": "Rvze3X7u43Dz",
        "outputId": "0c733d6b-583b-44fb-a6c2-cbfd416a2b58"
      },
      "source": [
        "season=\"1995-1996\"\n",
        "team=\"Chicago Bulls\"\n",
        "coach=\"Phil Jackson\"\n",
        "records=[72, 10]\n",
        "starting_lineup=[\"Ron Harper\",\"Michael Jordan\",\"Scottie Pippen\",\"Dennis Rodman\",\"Luc Longley\"]\n",
        "won_championship=True\n",
        "best_chicago_bulls=list((season,team,coach,records,starting_lineup,won_championship))\n",
        "print(best_chicago_bulls)\n",
        "print(type(best_chicago_bulls))\n",
        "print(best_chicago_bulls[0])\n",
        "print(best_chicago_bulls[-1])\n",
        "print(best_chicago_bulls[1:4])\n",
        "print(best_chicago_bulls[::-1])"
      ],
      "execution_count": 12,
      "outputs": [
        {
          "output_type": "stream",
          "text": [
            "['1995-1996', 'Chicago Bulls', 'Phil Jackson', [72, 10], ['Ron Harper', 'Michael Jordan', 'Scottie Pippen', 'Dennis Rodman', 'Luc Longley'], True]\n",
            "<class 'list'>\n",
            "1995-1996\n",
            "True\n",
            "['Chicago Bulls', 'Phil Jackson', [72, 10]]\n",
            "[True, ['Ron Harper', 'Michael Jordan', 'Scottie Pippen', 'Dennis Rodman', 'Luc Longley'], [72, 10], 'Phil Jackson', 'Chicago Bulls', '1995-1996']\n"
          ],
          "name": "stdout"
        }
      ]
    }
  ]
}