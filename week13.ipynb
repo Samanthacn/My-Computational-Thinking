{
  "nbformat": 4,
  "nbformat_minor": 0,
  "metadata": {
    "colab": {
      "name": "week13.ipynb",
      "provenance": [],
      "authorship_tag": "ABX9TyNg5sHbiNjI0Z5xsUbIo98s",
      "include_colab_link": true
    },
    "kernelspec": {
      "name": "python3",
      "display_name": "Python 3"
    }
  },
  "cells": [
    {
      "cell_type": "markdown",
      "metadata": {
        "id": "view-in-github",
        "colab_type": "text"
      },
      "source": [
        "<a href=\"https://colab.research.google.com/github/Samanthacn/My-Computational-Thinking/blob/master/week13.ipynb\" target=\"_parent\"><img src=\"https://colab.research.google.com/assets/colab-badge.svg\" alt=\"Open In Colab\"/></a>"
      ]
    },
    {
      "cell_type": "markdown",
      "metadata": {
        "id": "apcZonmsAEWE"
      },
      "source": [
        "range()\n",
        "隨堂練習3:請用range()函數建立下面的數字串列。"
      ]
    },
    {
      "cell_type": "code",
      "metadata": {
        "colab": {
          "base_uri": "https://localhost:8080/"
        },
        "id": "TM4GQQT2z563",
        "outputId": "cd1659e2-b88c-4feb-b8e3-327f2f090d11"
      },
      "source": [
        "a=range(0,10)\n",
        "print(a[0],a[1],a[2],a[3],a[4],a[5],a[6],a[7],a[8],a[9])"
      ],
      "execution_count": 29,
      "outputs": [
        {
          "output_type": "stream",
          "text": [
            "0 1 2 3 4 5 6 7 8 9\n"
          ],
          "name": "stdout"
        }
      ]
    },
    {
      "cell_type": "code",
      "metadata": {
        "colab": {
          "base_uri": "https://localhost:8080/"
        },
        "id": "3aSd7DwC14Cn",
        "outputId": "2de5f1cf-2db4-4163-fee8-6cd5abc5c2c5"
      },
      "source": [
        "b=range(0, 10, 2)\n",
        "print(b[0],b[1],b[2],b[3],b[4])"
      ],
      "execution_count": 31,
      "outputs": [
        {
          "output_type": "stream",
          "text": [
            "0 2 4 6 8\n"
          ],
          "name": "stdout"
        }
      ]
    },
    {
      "cell_type": "code",
      "metadata": {
        "colab": {
          "base_uri": "https://localhost:8080/"
        },
        "id": "3sjawN1w35ix",
        "outputId": "b37420c8-650a-4656-ace3-e89989be1e90"
      },
      "source": [
        "c=range(5, 11, 2)\n",
        "print(c[0],c[1],c[2])"
      ],
      "execution_count": 38,
      "outputs": [
        {
          "output_type": "stream",
          "text": [
            "5 7 9\n"
          ],
          "name": "stdout"
        }
      ]
    },
    {
      "cell_type": "code",
      "metadata": {
        "colab": {
          "base_uri": "https://localhost:8080/"
        },
        "id": "3tZFFUe74BQh",
        "outputId": "f7a59369-4db9-4386-d5be-ea07a4d9cf16"
      },
      "source": [
        "d=range(0, -10, -1)\n",
        "print(d[0],d[1],d[2],d[3],d[4],d[5],d[6],d[7],d[8],d[9])"
      ],
      "execution_count": 33,
      "outputs": [
        {
          "output_type": "stream",
          "text": [
            "0 -1 -2 -3 -4 -5 -6 -7 -8 -9\n"
          ],
          "name": "stdout"
        }
      ]
    },
    {
      "cell_type": "code",
      "metadata": {
        "colab": {
          "base_uri": "https://localhost:8080/"
        },
        "id": "xykMkjh34RqS",
        "outputId": "23b3c474-9242-423d-db00-89341e468fd0"
      },
      "source": [
        "print(d[0])\n",
        "print(d[1])\n",
        "print(d[2])\n",
        "print(d[3])\n",
        "print(d[4])\n",
        "print(d[5])\n",
        "print(d[6])\n",
        "print(d[7])\n",
        "print(d[8])\n",
        "print(d[9])"
      ],
      "execution_count": 37,
      "outputs": [
        {
          "output_type": "stream",
          "text": [
            "0\n",
            "-1\n",
            "-2\n",
            "-3\n",
            "-4\n",
            "-5\n",
            "-6\n",
            "-7\n",
            "-8\n",
            "-9\n"
          ],
          "name": "stdout"
        }
      ]
    },
    {
      "cell_type": "markdown",
      "metadata": {
        "id": "TviYH4bc5mwD"
      },
      "source": [
        "單元作業\n",
        "請用串列來建立期末專題分組報告名單,包括專題題目(project_title)、成員姓名\n",
        "(name_list)、成員學號(number_list)、分工內容(duty_list)、分工比重(load_list)。同時,請\n",
        "用切片的方法,告訴我組長的姓名、學號,以及負責的分工內容與比重。"
      ]
    },
    {
      "cell_type": "code",
      "metadata": {
        "colab": {
          "base_uri": "https://localhost:8080/"
        },
        "id": "W48n3AZT5n80",
        "outputId": "35b79b3e-d7c5-4af9-f597-cc9ee7f1e85b"
      },
      "source": [
        "project_title=\"簡易計算機\"\n",
        "name_list=\"林龍億,王心如,黃奕昕,吳泓毅,呂欣恩\"\n",
        "group_leader=\"呂欣恩\"\n",
        "number_list=['A109260102','A109260076','A105260027','A107260029','A106070272']\n",
        "duty_list=['文書整理','主題構思','主題構思','程式設計','程式設計']\n",
        "load_list=['20%','20%','20%','20%','20%']\n",
        "print(group_leader,number_list[4],duty_list[4],load_list[4])"
      ],
      "execution_count": 65,
      "outputs": [
        {
          "output_type": "stream",
          "text": [
            "呂欣恩 A106070272 程式設計 20%\n"
          ],
          "name": "stdout"
        }
      ]
    },
    {
      "cell_type": "markdown",
      "metadata": {
        "id": "-7Bo2eKp_0x2"
      },
      "source": [
        "for迴圈\n",
        "隨堂練習1:寫一個程式計算數字2到10偶數之和。"
      ]
    },
    {
      "cell_type": "code",
      "metadata": {
        "colab": {
          "base_uri": "https://localhost:8080/"
        },
        "id": "1NeXCnrP_4Qm",
        "outputId": "8f1dff45-ae39-4d34-f273-25ce5074b7d8"
      },
      "source": [
        "sum=0\n",
        "for i in range(2,11,2):\n",
        " sum=sum+i\n",
        "print(\"Total is:\" , sum)"
      ],
      "execution_count": 67,
      "outputs": [
        {
          "output_type": "stream",
          "text": [
            "Total is: 30\n"
          ],
          "name": "stdout"
        }
      ]
    },
    {
      "cell_type": "markdown",
      "metadata": {
        "id": "ccGflxA_AOwA"
      },
      "source": [
        "隨堂練習2: 寫一個程式計算數字3到13之間,每隔3個數字之和。"
      ]
    },
    {
      "cell_type": "code",
      "metadata": {
        "colab": {
          "base_uri": "https://localhost:8080/"
        },
        "id": "OUOQm_GvAr0H",
        "outputId": "baeabf0d-99ac-4d7c-ccdd-9c9e8448fcc1"
      },
      "source": [
        "sum=0\n",
        "for i in range(3,13,3):\n",
        " sum=sum+i\n",
        "print(\"Total is:\" , sum)"
      ],
      "execution_count": 68,
      "outputs": [
        {
          "output_type": "stream",
          "text": [
            "Total is: 30\n"
          ],
          "name": "stdout"
        }
      ]
    }
  ]
}