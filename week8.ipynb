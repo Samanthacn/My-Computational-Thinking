{
  "nbformat": 4,
  "nbformat_minor": 0,
  "metadata": {
    "colab": {
      "name": "week8.ipynb",
      "provenance": [],
      "authorship_tag": "ABX9TyPYqkhA99x3pomIhaH5c9EB",
      "include_colab_link": true
    },
    "kernelspec": {
      "name": "python3",
      "display_name": "Python 3"
    }
  },
  "cells": [
    {
      "cell_type": "markdown",
      "metadata": {
        "id": "view-in-github",
        "colab_type": "text"
      },
      "source": [
        "<a href=\"https://colab.research.google.com/github/Samanthacn/My-Computational-Thinking/blob/master/week8.ipynb\" target=\"_parent\"><img src=\"https://colab.research.google.com/assets/colab-badge.svg\" alt=\"Open In Colab\"/></a>"
      ]
    },
    {
      "cell_type": "code",
      "metadata": {
        "id": "XOMcVLujmLzN"
      },
      "source": [
        "攝氏轉華氏"
      ],
      "execution_count": null,
      "outputs": []
    },
    {
      "cell_type": "code",
      "metadata": {
        "id": "Jzkjjajii9ZV",
        "outputId": "d48bcea0-146b-4952-c207-aead0626ee83",
        "colab": {
          "base_uri": "https://localhost:8080/"
        }
      },
      "source": [
        "centigrade=float(input('請輸入攝氏溫度:'))"
      ],
      "execution_count": null,
      "outputs": [
        {
          "output_type": "stream",
          "text": [
            "請輸入攝氏溫度:22\n"
          ],
          "name": "stdout"
        }
      ]
    },
    {
      "cell_type": "code",
      "metadata": {
        "id": "rfkGYujMlVqK"
      },
      "source": [
        "fahrenheit=centigrade*9/5+32"
      ],
      "execution_count": null,
      "outputs": []
    },
    {
      "cell_type": "code",
      "metadata": {
        "id": "fzSD3-hRlbav",
        "outputId": "1a899446-37f2-4d83-f7b4-442096ba9d52",
        "colab": {
          "base_uri": "https://localhost:8080/"
        }
      },
      "source": [
        "print('華氏溫度為',fahrenheit)"
      ],
      "execution_count": null,
      "outputs": [
        {
          "output_type": "stream",
          "text": [
            "華氏溫度為 71.6\n"
          ],
          "name": "stdout"
        }
      ]
    },
    {
      "cell_type": "code",
      "metadata": {
        "id": "IKV_NGvnmJ4o"
      },
      "source": [
        "服裝訂購系統"
      ],
      "execution_count": null,
      "outputs": []
    },
    {
      "cell_type": "code",
      "metadata": {
        "id": "uXpMO0CAmR0Y",
        "outputId": "06fb919b-b6f1-4bf7-c992-622c3d62fb43",
        "colab": {
          "base_uri": "https://localhost:8080/"
        }
      },
      "source": [
        "cloth=int(input('請輸入上衣數量:'))"
      ],
      "execution_count": null,
      "outputs": [
        {
          "output_type": "stream",
          "text": [
            "請輸入上衣數量:3\n"
          ],
          "name": "stdout"
        }
      ]
    },
    {
      "cell_type": "code",
      "metadata": {
        "id": "IjLsoapWmeNE",
        "outputId": "e2ec8c69-93ca-403f-e96e-733cc94cfdf9",
        "colab": {
          "base_uri": "https://localhost:8080/"
        }
      },
      "source": [
        "jeans=int(input('請輸入褲子數量:'))"
      ],
      "execution_count": null,
      "outputs": [
        {
          "output_type": "stream",
          "text": [
            "請輸入褲子數量:2\n"
          ],
          "name": "stdout"
        }
      ]
    },
    {
      "cell_type": "code",
      "metadata": {
        "id": "HX2iAzXumsOx",
        "outputId": "906a1a4c-849b-4d6d-fed1-00cbed5ccf45",
        "colab": {
          "base_uri": "https://localhost:8080/"
        }
      },
      "source": [
        "vest=int(input('請輸入背心數量:'))"
      ],
      "execution_count": null,
      "outputs": [
        {
          "output_type": "stream",
          "text": [
            "請輸入背心數量:1\n"
          ],
          "name": "stdout"
        }
      ]
    },
    {
      "cell_type": "code",
      "metadata": {
        "id": "tR97zo9ZmzbE"
      },
      "source": [
        "total=cloth*300+jeans*350+vest*400"
      ],
      "execution_count": null,
      "outputs": []
    },
    {
      "cell_type": "code",
      "metadata": {
        "id": "jK3U_2BKm97t",
        "outputId": "b54d10d2-e072-4703-a51c-3a2b85849659",
        "colab": {
          "base_uri": "https://localhost:8080/"
        }
      },
      "source": [
        "print('總金額:',total)"
      ],
      "execution_count": null,
      "outputs": [
        {
          "output_type": "stream",
          "text": [
            "總金額: 2000\n"
          ],
          "name": "stdout"
        }
      ]
    },
    {
      "cell_type": "code",
      "metadata": {
        "id": "UnWxh7FGpSwG"
      },
      "source": [
        "賣場買飲料"
      ],
      "execution_count": null,
      "outputs": []
    },
    {
      "cell_type": "code",
      "metadata": {
        "id": "CxrU-giGpWnT",
        "outputId": "74d4c0ad-1c14-4b33-a417-30e18494bf72",
        "colab": {
          "base_uri": "https://localhost:8080/"
        }
      },
      "source": [
        "count=int(input('請輸入購買的飲料罐數:'))"
      ],
      "execution_count": null,
      "outputs": [
        {
          "output_type": "stream",
          "text": [
            "請輸入購買的飲料罐數:46\n"
          ],
          "name": "stdout"
        }
      ]
    },
    {
      "cell_type": "code",
      "metadata": {
        "id": "-Q0sbwQRpvaH"
      },
      "source": [
        "dozen=int(count/12)"
      ],
      "execution_count": null,
      "outputs": []
    },
    {
      "cell_type": "code",
      "metadata": {
        "id": "h5Dr8yPbri86"
      },
      "source": [
        "can=count%12"
      ],
      "execution_count": null,
      "outputs": []
    },
    {
      "cell_type": "code",
      "metadata": {
        "id": "2n9mdgLArIF_"
      },
      "source": [
        "total=dozen*200+can*20"
      ],
      "execution_count": null,
      "outputs": []
    },
    {
      "cell_type": "code",
      "metadata": {
        "id": "bqbCuku3re-s",
        "outputId": "81ab905b-2484-4ce0-8bdb-8f36af2c63be",
        "colab": {
          "base_uri": "https://localhost:8080/"
        }
      },
      "source": [
        "print('總金額:',total)"
      ],
      "execution_count": null,
      "outputs": [
        {
          "output_type": "stream",
          "text": [
            "總金額: 800\n"
          ],
          "name": "stdout"
        }
      ]
    },
    {
      "cell_type": "code",
      "metadata": {
        "id": "gcwFNCBInQ34"
      },
      "source": [
        "求三數總和與平均"
      ],
      "execution_count": null,
      "outputs": []
    },
    {
      "cell_type": "code",
      "metadata": {
        "id": "C3snEjBLnVGH",
        "outputId": "7a2ebacf-2411-42ef-ec34-23d26c279fab",
        "colab": {
          "base_uri": "https://localhost:8080/"
        }
      },
      "source": [
        "first=int(input('請輸入第一次段考成績:'))"
      ],
      "execution_count": null,
      "outputs": [
        {
          "output_type": "stream",
          "text": [
            "請輸入第一次段考成績:89\n"
          ],
          "name": "stdout"
        }
      ]
    },
    {
      "cell_type": "code",
      "metadata": {
        "id": "4w7tAN4onjV5",
        "outputId": "3fa69ee2-4135-4ef1-ac03-f92c4aef4f5e",
        "colab": {
          "base_uri": "https://localhost:8080/"
        }
      },
      "source": [
        "second=int(input('請輸入第二次段考成績:'))"
      ],
      "execution_count": null,
      "outputs": [
        {
          "output_type": "stream",
          "text": [
            "請輸入第二次段考成績:90\n"
          ],
          "name": "stdout"
        }
      ]
    },
    {
      "cell_type": "code",
      "metadata": {
        "id": "-9KTWQguntqi",
        "outputId": "d0db7459-837c-4449-90c1-c094fd4d02f6",
        "colab": {
          "base_uri": "https://localhost:8080/"
        }
      },
      "source": [
        "final=int(input('請輸入第三次段考成績:'))"
      ],
      "execution_count": null,
      "outputs": [
        {
          "output_type": "stream",
          "text": [
            "請輸入第三次段考成績:98\n"
          ],
          "name": "stdout"
        }
      ]
    },
    {
      "cell_type": "code",
      "metadata": {
        "id": "MzguXBy-n2Ar"
      },
      "source": [
        "sum=first+second+final"
      ],
      "execution_count": null,
      "outputs": []
    },
    {
      "cell_type": "code",
      "metadata": {
        "id": "LB7c4ROzn96g"
      },
      "source": [
        "avg=sum/3"
      ],
      "execution_count": null,
      "outputs": []
    },
    {
      "cell_type": "code",
      "metadata": {
        "id": "9ieiEtXxoBUz",
        "outputId": "fd284f55-24d4-4407-b664-f7f95044ac75",
        "colab": {
          "base_uri": "https://localhost:8080/"
        }
      },
      "source": [
        "print('總分：',sum,'平均：',avg)"
      ],
      "execution_count": null,
      "outputs": [
        {
          "output_type": "stream",
          "text": [
            "總分： 277 平均： 92.33333333333333\n"
          ],
          "name": "stdout"
        }
      ]
    }
  ]
}